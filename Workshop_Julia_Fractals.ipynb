{
  "cells": [
    {
      "cell_type": "markdown",
      "id": "1ba60271",
      "metadata": {
        "id": "1ba60271"
      },
      "source": [
        "#  Mathematical Fractals with Julia\n",
        "\n",
        "### Topics for this Workshop\n",
        "* What are fractals?\n",
        "* What is fractal dimension and how is it different from toplogical dimension?\n",
        "* Fractals and inherent recursive nature.\n",
        "* Cantor Set Fractal\n",
        "* Koch Curve and Snowflake\n",
        "* Hilbert Curve\n",
        "* Spikenski Triangle 2D and 3D\n",
        "* Mandelbrot Set and Julia set\n",
        "* Relation between Mandelbrot set and Julia set.\n",
        "* Pythagorean Tree"
      ]
    },
    {
      "cell_type": "code",
      "execution_count": null,
      "id": "634cf376",
      "metadata": {
        "id": "634cf376"
      },
      "outputs": [],
      "source": [
        "import Pkg\n",
        "Pkg.add(\"Plots\")\n",
        "Pkg.add(\"CairoMakie\")\n",
        "Pkg.add(\"Makie\")\n",
        "Pkg.add(\"LinearAlgebra\")\n",
        "using Plots\n",
        "using CairoMakie\n",
        "using Makie.GeometryBasics\n",
        "using IJulia\n",
        "using LinearAlgebra\n",
        "\n",
        "notebook()"
      ]
    },
    {
      "cell_type": "markdown",
      "id": "e406870d",
      "metadata": {
        "id": "e406870d"
      },
      "source": [
        "## Cantor Set Fractal\n",
        "#### Divide a line segment in 2^k parts each with length = 3^(-k)\n",
        "* 0__________________________1   (1,1)\n",
        "* 0_________        _________1   (2,1/3)\n",
        "* 0___   ___        ___   ___1   (4,1/9)\n",
        "* 0_ _   _ _        _ _   _ _1   (8,1/27)\n",
        "* 0: :   : :        : :   : :1   (2^k,1/3^k)"
      ]
    },
    {
      "cell_type": "code",
      "execution_count": null,
      "id": "ff982e3b",
      "metadata": {
        "id": "ff982e3b"
      },
      "outputs": [],
      "source": [
        "list1 = []\n",
        "function appendline(b,e,level)\n",
        "    push!(list1,b)\n",
        "    push!(list1,e)\n",
        "    push!(list1,level)\n",
        "end"
      ]
    },
    {
      "cell_type": "code",
      "execution_count": null,
      "id": "ff38133b",
      "metadata": {
        "id": "ff38133b"
      },
      "outputs": [],
      "source": [
        "function split1(b,e,level,threshold,ratio,skewness)\n",
        "    if (e-b < threshold)\n",
        "        return\n",
        "    end\n",
        "    partsize = (e-b)*ratio\n",
        "    appendline(b,e,level)\n",
        "    if(skewness>0)\n",
        "        split1(b,(b+partsize/skewness),level+1,threshold,ratio,skewness)\n",
        "        split1(e-partsize,e,level+1,threshold,ratio,skewness)\n",
        "\n",
        "    else\n",
        "        split1((e-partsize/skewness),e,level+1,threshold,ratio,skewness)\n",
        "        split1(b,b+partsize,level+1,threshold,ratio,skewness)\n",
        "\n",
        "    end\n",
        "end\n",
        "    "
      ]
    },
    {
      "cell_type": "code",
      "execution_count": null,
      "id": "1fef8d49",
      "metadata": {
        "id": "1fef8d49"
      },
      "outputs": [],
      "source": [
        "function plotline(l)\n",
        "    f = Figure(resolution = (3000, 3000))\n",
        "    Axis(f[1, 1])\n",
        "    for x in 1:3:length(l)\n",
        "        Plots.plot!([l[x],l[x+1]],[l[x+2],l[x+2]],lw=3,legend = false)\n",
        "    end\n",
        "    f\n",
        "end"
      ]
    },
    {
      "cell_type": "code",
      "execution_count": null,
      "id": "24afb4b1",
      "metadata": {
        "id": "24afb4b1"
      },
      "outputs": [],
      "source": [
        "list1 = []\n",
        "split1(0,100,1,0.0001,0.4,1.25)\n",
        "plotline(list1)\n",
        "Plots.plot!()"
      ]
    },
    {
      "cell_type": "markdown",
      "id": "af643d61",
      "metadata": {
        "id": "af643d61"
      },
      "source": [
        "## Koch Curve\n",
        "\n",
        "### Divide the line into three parts; remove the middle partion with other two side of equilateral triangle\n",
        "\n",
        "_______________\n",
        "      /\\\n",
        "     /  \\\n",
        "____/    \\_____\n",
        "       _/\\_\n",
        "      \\   /\n",
        "__/\\__/   \\__/\\__\n",
        "\n",
        "...\n",
        "\n",
        "and So on\n"
      ]
    },
    {
      "cell_type": "code",
      "execution_count": null,
      "id": "b841d711",
      "metadata": {
        "id": "b841d711"
      },
      "outputs": [],
      "source": [
        "list1 = []\n",
        "function findcoord1(beg1,beg2)\n",
        "    x1 = (beg1[1]+beg2[1] + √3*(beg1[2]-beg2[2]))/2\n",
        "    x2 = (beg1[1]+beg2[1] - √3*(beg1[2]-beg2[2]))/2\n",
        "    y1 = (beg1[2]+beg2[2] + √3*(beg1[1]-beg2[1]))/2\n",
        "    y2 = (beg1[2]+beg2[2] - √3*(beg1[1]-beg2[1]))/2\n",
        "    point1 = [x1,y2]\n",
        "    point2 = [x2,y1]\n",
        "\n",
        "    if(norm(point1-[0,0])>norm(point2-[0,0]))\n",
        "        return point1\n",
        "    else\n",
        "        return point2\n",
        "    end\n",
        "end\n",
        "\n",
        "function findcoord(beg1,beg2,c)\n",
        "    x1 = (beg1[1]+beg2[1] + √3*(beg1[2]-beg2[2]))/2\n",
        "    x2 = (beg1[1]+beg2[1] - √3*(beg1[2]-beg2[2]))/2\n",
        "    y1 = (beg1[2]+beg2[2] + √3*(beg1[1]-beg2[1]))/2\n",
        "    y2 = (beg1[2]+beg2[2] - √3*(beg1[1]-beg2[1]))/2\n",
        "    point1 = [x1,y2]\n",
        "    point2 = [x2,y1]\n",
        "\n",
        "    if(norm(point1-c)>norm(point2-c))\n",
        "        return point2\n",
        "    else\n",
        "        return point1\n",
        "    end\n",
        "end\n"
      ]
    },
    {
      "cell_type": "code",
      "execution_count": null,
      "id": "80b17e07",
      "metadata": {
        "id": "80b17e07"
      },
      "outputs": [],
      "source": [
        "function split2(b,e,c,level,threshold)\n",
        "    if (norm(e-b) < threshold || level == 0)\n",
        "        push!(list1,b)\n",
        "        push!(list1,e)\n",
        "        return \n",
        "    end\n",
        "    #tricenter = findcoord(e,b)\n",
        "    #print(tricenter)\n",
        "    #println(beg1,\" \",beg2,\" \")\n",
        "    if(c==0)\n",
        "        beg1 = [0.6667*(b[1])+0.33333(e[1]),0.6667*(b[2])+0.33333(e[2])]\n",
        "        beg2 = [0.33333*(b[1])+0.66667(e[1]),0.333333*(b[2])+0.66667(e[2])]\n",
        "        inter = findcoord1(beg1,beg2)\n",
        "        split2(b,beg1,inter,level-1,threshold)\n",
        "        split2(inter,beg2,e,level-1,threshold)\n",
        "    else\n",
        "        centroid = (b+e+c)/3\n",
        "        beg1 = [0.6667*(b[1])+0.33333(e[1]),0.6667*(b[2])+0.33333(e[2])]\n",
        "        beg2 = [0.33333*(b[1])+0.66667(e[1]),0.333333*(b[2])+0.66667(e[2])]\n",
        "        beg11 = [0.6667*(e[1])+0.33333(c[1]),0.6667*(e[2])+0.33333(c[2])]\n",
        "        beg22 = [0.33333*(e[1])+0.66667(c[1]),0.333333*(e[2])+0.66667(c[2])]\n",
        "        inter1 = findcoord(beg1,beg2,centroid)\n",
        "        inter2 = findcoord(beg11,beg22,centroid)\n",
        "        split2(b,beg1,inter1,level-1,threshold)\n",
        "        split2(inter1,beg2,e,level-1,threshold)\n",
        "        split2(e,beg11,inter2,level-1,threshold)\n",
        "        split2(inter2,beg22,c,level-1,threshold)\n",
        "    end\n",
        "end"
      ]
    },
    {
      "cell_type": "code",
      "execution_count": null,
      "id": "3c8b3e75",
      "metadata": {
        "id": "3c8b3e75"
      },
      "outputs": [],
      "source": [
        "Plots.plot()\n",
        "function plotkoch(l)\n",
        "    for x in 1:1:length(l)-1\n",
        "        Plots.plot!([l[x][1],l[x+1][1]],[l[x][2],l[x+1][2]],lw=3,legend = false)\n",
        "    end\n",
        "end"
      ]
    },
    {
      "cell_type": "code",
      "execution_count": null,
      "id": "78f59489",
      "metadata": {
        "id": "78f59489"
      },
      "outputs": [],
      "source": [
        "split2([0,1],[0.866,-0.5],0,4,0.01)\n",
        "split2([0.866,-0.5],[-0.866,-0.5],0,4,0.01)\n",
        "split2([-0.866,-0.5],[0,1],0,4,0.01)"
      ]
    },
    {
      "cell_type": "code",
      "execution_count": null,
      "id": "e59ae9dd",
      "metadata": {
        "id": "e59ae9dd"
      },
      "outputs": [],
      "source": [
        "plotkoch(list1)\n",
        "Plots.plot!([list1[1][1],list1[length(list1)][1]],[list1[1][2],list1[length(list1)][2]],lw=3,legend=false)"
      ]
    },
    {
      "cell_type": "markdown",
      "id": "7c91f094",
      "metadata": {
        "id": "7c91f094"
      },
      "source": [
        "## Hilbert Fractal\n",
        "# Rules\n",
        "      ___\n",
        "A->  |A A|\n",
        "     |D B|.\n",
        "     |   v\n",
        "      ____ \n",
        "  B->|B C\n",
        "     |B A\n",
        "     |~~~>\n",
        "     \n",
        "  C->^D B|\n",
        "     |C C|\n",
        "      ~~~\n",
        "      <---\n",
        "  D-> C D|\n",
        "      A D|\n",
        "      ~~~"
      ]
    },
    {
      "cell_type": "code",
      "execution_count": null,
      "id": "4c929999",
      "metadata": {
        "id": "4c929999"
      },
      "outputs": [],
      "source": [
        "function plotA(coord1, coord2, coord3,coord4)\n",
        "    centroid = (coord1+coord2+coord4+coord3)/4\n",
        "    point1 = (coord1+centroid)/2\n",
        "    point2 = (coord2+centroid)/2\n",
        "    point3 = (coord3+centroid)/2\n",
        "    point4 = (coord4+centroid)/2\n",
        "    return point3,point1,point2,point4\n",
        "end\n",
        "function plotB(coord1, coord2, coord3,coord4)\n",
        "    centroid = (coord1+coord2+coord4+coord3)/4\n",
        "    point1 = (coord1+centroid)/2\n",
        "    point2 = (coord2+centroid)/2\n",
        "    point3 = (coord3+centroid)/2\n",
        "    point4 = (coord4+centroid)/2\n",
        "    return point2,point1,point3,point4\n",
        "end\n",
        "function plotC(coord1, coord2, coord3,coord4)\n",
        "    centroid = (coord1+coord2+coord4+coord3)/4\n",
        "    point1 = (coord1+centroid)/2\n",
        "    point2 = (coord2+centroid)/2\n",
        "    point3 = (coord3+centroid)/2\n",
        "    point4 = (coord4+centroid)/2\n",
        "    return point2,point4,point3,point1\n",
        "end        \n",
        "\n",
        "function plotD(coord1, coord2, coord3,coord4)\n",
        "    centroid = (coord1+coord2+coord4+coord3)/4\n",
        "    point1 = (coord1+centroid)/2\n",
        "    point2 = (coord2+centroid)/2\n",
        "    point3 = (coord3+centroid)/2\n",
        "    point4 = (coord4+centroid)/2\n",
        "    return point3,point4,point2,point1\n",
        "end"
      ]
    },
    {
      "cell_type": "code",
      "execution_count": null,
      "id": "c2f2c20e",
      "metadata": {
        "id": "c2f2c20e"
      },
      "outputs": [],
      "source": [
        "list1 = []\n",
        "function generateNext(letter,coord1,coord2,coord3,coord4,level)\n",
        "    if(level ==1)\n",
        "        if(letter == 'A')\n",
        "            push!(list1, (plotA(coord1, coord2, coord3,coord4))...)\n",
        "        elseif(letter == 'B')\n",
        "            push!(list1, (plotB(coord1, coord2, coord3,coord4))...)\n",
        "        elseif(letter == 'C')\n",
        "            push!(list1, (plotC(coord1, coord2, coord3,coord4))...)\n",
        "        else\n",
        "            push!(list1, (plotD(coord1, coord2, coord3,coord4))...)\n",
        "        end            \n",
        "        return\n",
        "    end\n",
        "    centroid = (coord1+coord2+coord3+coord4)/4\n",
        "    mid1 = (coord1+coord2)/2\n",
        "    mid2 = (coord2+coord4)/2\n",
        "    mid3 = (coord3+coord4)/2\n",
        "    mid4 = (coord1+coord3)/2\n",
        "    if(letter == 'A')\n",
        "        generateNext('D',mid4,centroid,coord3,mid3,level-1)\n",
        "        generateNext('A',coord1,mid1,mid4,centroid,level-1)\n",
        "        generateNext('A',mid1,coord2,centroid,mid2,level-1)\n",
        "        generateNext('B',centroid,mid2,mid3,coord4,level-1)\n",
        "    elseif(letter == 'B')\n",
        "        generateNext('C',mid1,coord2,centroid,mid2,level-1)\n",
        "        generateNext('B',coord1,mid1,mid4,centroid,level-1)\n",
        "        generateNext('B',mid4,centroid,coord3,mid3,level-1)\n",
        "        generateNext('A',centroid,mid2,mid3,coord4,level-1)\n",
        "    elseif(letter == 'C')\n",
        "        generateNext('B',mid1,coord2,centroid,mid2,level-1)\n",
        "        generateNext('C',centroid,mid2,mid3,coord4,level-1)\n",
        "        generateNext('C',mid4,centroid,coord3,mid3,level-1)\n",
        "        generateNext('D',coord1,mid1,mid4,centroid,level-1)\n",
        "    else       \n",
        "        generateNext('A',mid4,centroid,coord3,mid3,level-1)\n",
        "        generateNext('D',centroid,mid2,mid3,coord4,level-1) \n",
        "        generateNext('D',mid1,coord2,centroid,mid2,level-1)\n",
        "        generateNext('C',coord1,mid1,mid4,centroid,level-1)\n",
        "    end                \n",
        "end"
      ]
    },
    {
      "cell_type": "code",
      "execution_count": null,
      "id": "d0aac352",
      "metadata": {
        "id": "d0aac352"
      },
      "outputs": [],
      "source": [
        "generateNext('A',[0,1],[1,1],[0,0],[1,0],6)\n",
        "listx = []\n",
        "listy = []\n",
        "\n",
        "for x in list1\n",
        "    push!(listx,x[1])\n",
        "    push!(listy,x[2])\n",
        "end\n"
      ]
    },
    {
      "cell_type": "code",
      "execution_count": null,
      "id": "e073c640",
      "metadata": {
        "id": "e073c640"
      },
      "outputs": [],
      "source": [
        "Plots.plot([0,1,1,0,0],[1,1,0,0,1],lw = 5,legend = false)\n",
        "\n",
        "Plots.plot!(listx,listy,legend = false,lw = 1)"
      ]
    },
    {
      "cell_type": "markdown",
      "id": "29f96839",
      "metadata": {
        "id": "29f96839"
      },
      "source": [
        "## sierpinski Triangle \n",
        "          *\n",
        "         * *\n",
        "        *****\n",
        "       *     *\n",
        "      * *   * *\n",
        "     ***** *****\n"
      ]
    },
    {
      "cell_type": "code",
      "execution_count": null,
      "id": "beef86fb",
      "metadata": {
        "id": "beef86fb"
      },
      "outputs": [],
      "source": [
        "listx = []\n",
        "listy = []\n",
        "function getsubtriangles(sides,level)\n",
        "    if(level ==0)\n",
        "        x = []\n",
        "        y = []\n",
        "        push!(x, sides[1][1])\n",
        "        push!(x, sides[2][1])\n",
        "        push!(x, sides[3][1])\n",
        "        push!(x, sides[1][1])\n",
        "        push!(y, sides[1][2])\n",
        "        push!(y, sides[2][2])\n",
        "        push!(y, sides[3][2])\n",
        "        push!(y, sides[1][2])\n",
        "        push!(listx,x)\n",
        "        push!(listy,y)\n",
        "        return\n",
        "    end\n",
        "    mid1 = (sides[2]+sides[3])/2\n",
        "    mid2 = (sides[1]+sides[3])/2\n",
        "    mid3 = (sides[1]+sides[2])/2\n",
        "    getsubtriangles([sides[1],mid2,mid3],level-1)\n",
        "    getsubtriangles([sides[2],mid1,mid3],level-1)\n",
        "    getsubtriangles([sides[3],mid1,mid2],level-1)\n",
        "end"
      ]
    },
    {
      "cell_type": "code",
      "execution_count": null,
      "id": "f8b2a152",
      "metadata": {
        "id": "f8b2a152"
      },
      "outputs": [],
      "source": [
        "sides = [[0,1],[0.866,-0.5],[-0.866,-0.5]]\n",
        "getsubtriangles(sides,9)\n",
        "Plots.plot()\n",
        "for i in 1:length(listx)\n",
        "    Plots.plot!(listx[i],listy[i],lw=0.05,legend = false)\n",
        "end"
      ]
    },
    {
      "cell_type": "code",
      "execution_count": null,
      "id": "6930be25",
      "metadata": {
        "id": "6930be25"
      },
      "outputs": [],
      "source": [
        "Plots.plot!()\n"
      ]
    },
    {
      "cell_type": "markdown",
      "id": "1a210c35",
      "metadata": {
        "id": "1a210c35"
      },
      "source": [
        "## Mandelbrot Set and Julia Set\n",
        "\n",
        "### Relation Between Two"
      ]
    },
    {
      "cell_type": "code",
      "execution_count": null,
      "id": "58548498",
      "metadata": {
        "id": "58548498"
      },
      "outputs": [],
      "source": [
        "Pkg.add(\"Colors\")\n",
        "Pkg.add(\"ColorSchemes\")\n",
        "Pkg.add(\"PerceptualColourMaps\")"
      ]
    },
    {
      "cell_type": "code",
      "execution_count": null,
      "id": "91a8ce87",
      "metadata": {
        "id": "91a8ce87"
      },
      "outputs": [],
      "source": [
        "function evaluateboundedness(z,iterations,c,previous)\n",
        "    if(iterations ==0)\n",
        "        if(√abs(z^2+c)>2)\n",
        "            return log(√abs(z^2+c))\n",
        "        else\n",
        "            return log(√abs(z^2+c))\n",
        "        end\n",
        "    end\n",
        "    next = √abs((z^2)+c)\n",
        "    evaluateboundedness(z^2+c,iterations-1,c,next)       \n",
        "end"
      ]
    },
    {
      "cell_type": "code",
      "execution_count": null,
      "id": "0060fe3c",
      "metadata": {
        "id": "0060fe3c"
      },
      "outputs": [],
      "source": [
        "xlist = []\n",
        "ylist = []\n",
        "c = []\n",
        "constant = 0 + 0im\n",
        "for a in -2:0.02:1\n",
        "    for b in -1:0.02:1\n",
        "        y = evaluateboundedness(constant,100,a+b*im,0)\n",
        "        if(y !=true)\n",
        "            push!(xlist,a)\n",
        "            push!(ylist,b)\n",
        "            if(isnan(y) || y ==Inf)\n",
        "                push!(c,256)\n",
        "            else\n",
        "                push!(c,y)\n",
        "            end\n",
        "        end\n",
        "    end\n",
        "end\n",
        "my_colors = [cgrad(:thermal, [0,256])[z] for z in c]\n",
        "#print(my_colors)"
      ]
    },
    {
      "cell_type": "code",
      "execution_count": null,
      "id": "f2aa6a71",
      "metadata": {
        "id": "f2aa6a71"
      },
      "outputs": [],
      "source": [
        "Plots.plot()\n",
        "gr(size=(500,500),legend=false,markerstrokewidth=0,markersize=2)\n",
        "Plots.scatter(xlist,ylist,markersize=2,color = my_colors,legend = false)"
      ]
    },
    {
      "cell_type": "code",
      "execution_count": null,
      "id": "fe2b2409",
      "metadata": {
        "id": "fe2b2409"
      },
      "outputs": [],
      "source": [
        "xlist = []\n",
        "ylist = []\n",
        "c = []\n",
        "constant = -0.8 + 0.156im\n",
        "for a in -1.5:0.02:1.5\n",
        "    for b in -1.5:0.02:1.5\n",
        "        y = evaluateboundedness(a+b*im,100,constant,0)\n",
        "        if(y !=true)\n",
        "            push!(xlist,a)\n",
        "            push!(ylist,b)\n",
        "            if(isnan(y) || y ==Inf)\n",
        "                push!(c,256)\n",
        "            else\n",
        "                push!(c,y)\n",
        "            end\n",
        "        end\n",
        "    end\n",
        "end\n",
        "my_colors = [cgrad(:thermal, [0,256])[z] for z in c]"
      ]
    },
    {
      "cell_type": "code",
      "execution_count": null,
      "id": "9cd2e02c",
      "metadata": {
        "id": "9cd2e02c"
      },
      "outputs": [],
      "source": [
        "Plots.plot()\n",
        "gr(size=(500,500),legend=false,markerstrokewidth=0,markersize=2)\n",
        "Plots.scatter(xlist,ylist,markersize=2,color = my_colors,legend = false)"
      ]
    },
    {
      "cell_type": "markdown",
      "id": "d245b5ea",
      "metadata": {
        "id": "d245b5ea"
      },
      "source": [
        "## Pythagorean Tree"
      ]
    },
    {
      "cell_type": "code",
      "execution_count": null,
      "id": "80b2d20f",
      "metadata": {
        "id": "80b2d20f",
        "outputId": "6652fd38-3def-42aa-a02f-d4c9898c9f94"
      },
      "outputs": [
        {
          "data": {
            "text/plain": [
              "(0, 0)"
            ]
          },
          "execution_count": 7,
          "metadata": {},
          "output_type": "execute_result"
        }
      ],
      "source": [
        "point1 = (0,30)\n",
        "point2 = (20,0)\n",
        "point3 = (0,0)"
      ]
    },
    {
      "cell_type": "code",
      "execution_count": null,
      "id": "657e53e2",
      "metadata": {
        "id": "657e53e2",
        "outputId": "800d2393-31e8-401b-b21f-78f732e8c551"
      },
      "outputs": [
        {
          "data": {
            "text/plain": [
              "distance (generic function with 1 method)"
            ]
          },
          "execution_count": 28,
          "metadata": {},
          "output_type": "execute_result"
        }
      ],
      "source": [
        "function distance(A,B)\n",
        "    return √((A[1]-B[1])^2+(A[2]-B[2])^2)\n",
        "end"
      ]
    },
    {
      "cell_type": "code",
      "execution_count": null,
      "id": "9cf63f38",
      "metadata": {
        "id": "9cf63f38",
        "outputId": "2e297f36-32ea-4509-d307-a437ae397d3e"
      },
      "outputs": [
        {
          "data": {
            "text/plain": [
              "3-element Vector{Point{2, Float32}}:\n",
              " [0.0, 30.0]\n",
              " [20.0, 0.0]\n",
              " [0.0, 0.0]"
            ]
          },
          "execution_count": 9,
          "metadata": {},
          "output_type": "execute_result"
        }
      ],
      "source": [
        "triangle = Point2f[point1,point2,point3]"
      ]
    },
    {
      "cell_type": "code",
      "execution_count": null,
      "id": "08efa2c1",
      "metadata": {
        "id": "08efa2c1",
        "outputId": "ec69ea72-0ee6-4dbf-e1b7-52fbc7c8f833"
      },
      "outputs": [
        {
          "data": {
            "text/plain": [
              "plotPolygon (generic function with 1 method)"
            ]
          },
          "execution_count": 10,
          "metadata": {},
          "output_type": "execute_result"
        }
      ],
      "source": [
        "function plotPolygon(polygon)\n",
        "    f = Figure(resolution = (300, 300))\n",
        "    Axis(f[1, 1])\n",
        "    poly!(polygon)\n",
        "\n",
        "    f\n",
        "end"
      ]
    },
    {
      "cell_type": "code",
      "execution_count": null,
      "id": "8ffda44d",
      "metadata": {
        "id": "8ffda44d",
        "outputId": "74837213-92ae-4523-bd8e-1701cd0b6c01"
      },
      "outputs": [
        {
          "data": {
            "image/png": "[encoded data removed]",
            "text/plain": [
              "Figure()"
            ]
          },
          "execution_count": 11,
          "metadata": {},
          "output_type": "execute_result"
        }
      ],
      "source": [
        "plotPolygon(triangle)"
      ]
    },
    {
      "cell_type": "code",
      "execution_count": null,
      "id": "b613c3bc",
      "metadata": {
        "id": "b613c3bc",
        "outputId": "f2a37916-4a72-4ebd-fe5f-c462451ac95b"
      },
      "outputs": [
        {
          "data": {
            "text/plain": [
              "4-element Vector{Point{2, Float32}}:\n",
              " [0.0, 30.0]\n",
              " [20.0, 0.0]\n",
              " [40.0, 30.0]\n",
              " [20.0, 60.0]"
            ]
          },
          "execution_count": 12,
          "metadata": {},
          "output_type": "execute_result"
        }
      ],
      "source": [
        "squarebase = Point2f[point1,point3,(-30,0),(-30,30)]\n",
        "squareperpendicular = Point2f[point3,point2,(20,-20),(0,-20)]\n",
        "squarehypo = Point2f[point1,point2,(40,30),(20,60)]"
      ]
    },
    {
      "cell_type": "code",
      "execution_count": null,
      "id": "202b88e7",
      "metadata": {
        "id": "202b88e7",
        "outputId": "6ec39c77-a8aa-4de1-d9ad-82ed03124be7"
      },
      "outputs": [
        {
          "data": {
            "image/png": "[encoded data removed]",
            "text/plain": [
              "Figure()"
            ]
          },
          "execution_count": 13,
          "metadata": {},
          "output_type": "execute_result"
        }
      ],
      "source": [
        "plotPolygon(squarebase)"
      ]
    },
    {
      "cell_type": "code",
      "execution_count": null,
      "id": "d1dc9fd7",
      "metadata": {
        "id": "d1dc9fd7",
        "outputId": "912ded2a-8ef3-4c31-b0a3-f8c4615b175f"
      },
      "outputs": [
        {
          "data": {
            "text/plain": [
              "plotPolygonlist (generic function with 1 method)"
            ]
          },
          "execution_count": 14,
          "metadata": {},
          "output_type": "execute_result"
        }
      ],
      "source": [
        "function plotPolygonlist(polygons)\n",
        "    f = Figure(resolution = (300, 300))\n",
        "    Axis(f[1, 1])\n",
        "    for x in polygons\n",
        "       poly!(x)\n",
        "    end\n",
        "    f\n",
        "end"
      ]
    },
    {
      "cell_type": "code",
      "execution_count": null,
      "id": "1f4f47d3",
      "metadata": {
        "id": "1f4f47d3",
        "outputId": "e0df2418-74f7-4bb8-ae08-6807eaa8a929"
      },
      "outputs": [
        {
          "data": {
            "image/png": "[encoded data removed]",
            "text/plain": [
              "Figure()"
            ]
          },
          "execution_count": 15,
          "metadata": {},
          "output_type": "execute_result"
        }
      ],
      "source": [
        "plotPolygonlist([triangle,squarehypo,squareperpendicular,squarebase])"
      ]
    },
    {
      "cell_type": "code",
      "execution_count": null,
      "id": "e9264b49",
      "metadata": {
        "id": "e9264b49",
        "outputId": "a320080f-bd57-484d-8f49-48ec2e5724b9"
      },
      "outputs": [
        {
          "data": {
            "text/plain": [
              "4-element Vector{Point{2, Float32}}:\n",
              " [0.0, 0.0]\n",
              " [1.0, 0.0]\n",
              " [1.0, 1.0]\n",
              " [0.0, 1.0]"
            ]
          },
          "execution_count": 16,
          "metadata": {},
          "output_type": "execute_result"
        }
      ],
      "source": [
        "square = getsquare((0,0),(1,1))"
      ]
    },
    {
      "cell_type": "code",
      "execution_count": null,
      "id": "4afcb26e",
      "metadata": {
        "id": "4afcb26e",
        "outputId": "fabdf039-e4e1-4b58-ae8f-f9a6b420cfc4"
      },
      "outputs": [
        {
          "data": {
            "text/plain": [
              "findTriangle (generic function with 2 methods)"
            ]
          },
          "execution_count": 49,
          "metadata": {},
          "output_type": "execute_result"
        }
      ],
      "source": [
        "function findTriangle(Squareside,centroid,angle)\n",
        " point1 = Squareside[1]\n",
        " point2 = Squareside[2]\n",
        " centerpoint = (point1+point2)/2\n",
        " radius = distance(centerpoint,point1)\n",
        " slope = (centerpoint[2]-point1[2])/(centerpoint[1]-point1[1])\n",
        " θ = atan(slope)\n",
        " θnew = θ+0.5π-angle\n",
        " x = centerpoint[1]+radius*cos(θnew)\n",
        " x1= centerpoint[1]-radius*cos(θnew)\n",
        " y = centerpoint[2]+radius*sin(θnew)\n",
        " y1 = centerpoint[2]-radius*sin(θnew)\n",
        " if(distance(centroid,[x,y])<(distance(centroid,[x1,y1])))\n",
        " relevantpoint = [x1,y1]\n",
        " else\n",
        " relevantpoint = [x,y]\n",
        " end\n",
        " return relevantpoint\n",
        "end"
      ]
    },
    {
      "cell_type": "code",
      "execution_count": null,
      "id": "194ebedf",
      "metadata": {
        "id": "194ebedf",
        "outputId": "9e16747c-2dba-4855-e757-adef197e3de0"
      },
      "outputs": [
        {
          "data": {
            "text/plain": [
              "2-element Point{2, Float32} with indices SOneTo(2):\n",
              " 0.5\n",
              " 0.5"
            ]
          },
          "execution_count": 50,
          "metadata": {},
          "output_type": "execute_result"
        }
      ],
      "source": [
        "centroidsq(square) = (square[1]+square[2]+square[3]+square[4])/4\n",
        "centroidtri(triangle) = (triangle[1]+triangle[2]+triangle[3])/3\n",
        "centroid = centroidsq(square)"
      ]
    },
    {
      "cell_type": "code",
      "execution_count": null,
      "id": "11c6574b",
      "metadata": {
        "id": "11c6574b",
        "outputId": "7bdf8fea-2931-489c-b171-dc5a3e2c7b55"
      },
      "outputs": [
        {
          "data": {
            "text/plain": [
              "findTriangleandSquare (generic function with 1 method)"
            ]
          },
          "execution_count": 51,
          "metadata": {},
          "output_type": "execute_result"
        }
      ],
      "source": [
        "function findTriangleandSquare(Squareside,centroid,angle)\n",
        " point1 = Squareside[1]\n",
        " point2 = Squareside[2]\n",
        " centerpoint = (point1+point2)/2\n",
        " radius = distance(centerpoint,point1)\n",
        " slope = (centerpoint[2]-point1[2])/(centerpoint[1]-point1[1])\n",
        " θ = atan(slope)\n",
        " θnew = θ+0.5π-angle\n",
        " x = centerpoint[1]+radius*cos(θnew)\n",
        " x1= centerpoint[1]-radius*cos(θnew)\n",
        " y = centerpoint[2]+radius*sin(θnew)\n",
        " y1 = centerpoint[2]-radius*sin(θnew)\n",
        "\n",
        " if(distance(centroid,[x,y])<(distance(centroid,[x1,y1])))\n",
        " relevantpoint = [x1,y1]\n",
        " else\n",
        " relevantpoint = [x,y]\n",
        " end\n",
        " centroid2 = (relevantpoint+point1+point2)/3\n",
        " distance1 = distance(relevantpoint,point1)\n",
        " distance2 = distance(relevantpoint,point2)\n",
        " slope1 = (point1[2]-relevantpoint[2])/(point1[1]-relevantpoint[1])\n",
        " slope2 = (relevantpoint[2]-point2[2])/(relevantpoint[1]-point2[1])\n",
        " θ1 = atan(slope1) -π/2\n",
        " θ2 = atan(slope2) -π/2\n",
        " newx1 = point1[1]+ distance1*cos(θ1)\n",
        " newy1 = point1[2]+ distance1*sin(θ1)\n",
        " newx11 = point1[1]- distance1*cos(θ1)\n",
        " newy11 = point1[2]- distance1*sin(θ1)\n",
        " centroid11 = (relevantpoint+point1+[newx1,newy1])/3\n",
        " centroid12 = (relevantpoint+point1+[newx11,newy11])/3\n",
        "\n",
        " if(distance(centroid11,centroid2)<distance(centroid12,centroid2))\n",
        " pnt1 = [newx11,newy11]\n",
        " else\n",
        " pnt1 = [newx1,newy1]\n",
        " end\n",
        " newx2 = point2[1]+ distance2*cos(θ2)\n",
        " newy2 = point2[2]+ distance2*sin(θ2)\n",
        " newx22 = point2[1]- distance2*cos(θ2)\n",
        "    newy22 = point2[2]- distance2*sin(θ2)\n",
        " centroid21 = (relevantpoint+[newx2,newy2]+point2)/3\n",
        " centroid22 = (relevantpoint+[newx22,newy22]+point2)/3\n",
        " if(distance(centroid21,centroid2)<distance(centroid22,centroid2))\n",
        " pnt2 = [newx22,newy22]\n",
        " else\n",
        " pnt2 = [newx2,newy2]\n",
        " end\n",
        "\n",
        " return relevantpoint,pnt1,pnt2\n",
        "end"
      ]
    },
    {
      "cell_type": "code",
      "execution_count": null,
      "id": "9cfeaebc",
      "metadata": {
        "id": "9cfeaebc",
        "outputId": "e156d229-087d-4433-9262-abb3bcfcd7c1"
      },
      "outputs": [
        {
          "data": {
            "text/plain": [
              "([0.5, 1.5], [-0.5000000000000001, 1.5], [1.5, 1.5])"
            ]
          },
          "execution_count": 52,
          "metadata": {},
          "output_type": "execute_result"
        }
      ],
      "source": [
        "angle = 0\n",
        "squareside = [square[1],square[2]]\n",
        "Pythagoreansetup = findTriangleandSquare(squareside,centroid,angle*π/180)"
      ]
    },
    {
      "cell_type": "code",
      "execution_count": null,
      "id": "b5834832",
      "metadata": {
        "id": "b5834832",
        "outputId": "d90a0c80-5bc1-4440-9444-190ed80b9e52"
      },
      "outputs": [
        {
          "data": {
            "text/plain": [
              "4-element Vector{Point{2, Float32}}:\n",
              " [0.5, 1.5]\n",
              " [1.0, 1.0]\n",
              " [1.5, 1.5]\n",
              " [1.0, 2.0]"
            ]
          },
          "execution_count": 53,
          "metadata": {},
          "output_type": "execute_result"
        }
      ],
      "source": [
        "triangle = Point2f[Pythagoreansetup[1], squareside[1],squareside[2]]\n",
        "square1 = getsquare(Pythagoreansetup[1], Pythagoreansetup[2])\n",
        "square2 = getsquare(Pythagoreansetup[1], Pythagoreansetup[3])"
      ]
    },
    {
      "cell_type": "code",
      "execution_count": null,
      "id": "06beab00",
      "metadata": {
        "id": "06beab00",
        "outputId": "4ba6505f-8141-4629-a2f2-2452c3b51484"
      },
      "outputs": [
        {
          "data": {
            "image/png": "[encoded data removed]",
            "text/plain": [
              "Figure()"
            ]
          },
          "execution_count": 54,
          "metadata": {},
          "output_type": "execute_result"
        }
      ],
      "source": [
        "plotPolygonlist([triangle,square1,square2,square])"
      ]
    },
    {
      "cell_type": "code",
      "execution_count": null,
      "id": "720b593c",
      "metadata": {
        "id": "720b593c",
        "outputId": "e5fc1c77-5aac-4ad1-857f-d18fd8c67f1a"
      },
      "outputs": [
        {
          "data": {
            "text/plain": [
              "([170.42961871051193, -34.49659924315665], [-41.49659924315665, -157.42961871051193], [537.4965992431567, 178.42961871051196])"
            ]
          },
          "execution_count": 55,
          "metadata": {},
          "output_type": "execute_result"
        }
      ],
      "source": [
        "angle = 30\n",
        "pnt1 = [3,10]\n",
        "pnt2 = [2,500]\n",
        "centroid = (pnt1+pnt2)/2\n",
        "square = getsquare(pnt1,pnt2)\n",
        "squareside = [square[1],square[2]]\n",
        "Pythagoreansetup = findTriangleandSquare(squareside,centroid,angle*π/180)"
      ]
    },
    {
      "cell_type": "code",
      "execution_count": null,
      "id": "6f05e370",
      "metadata": {
        "id": "6f05e370",
        "outputId": "4a5957d7-7a9d-4bcf-d64d-0025409c241a"
      },
      "outputs": [
        {
          "data": {
            "image/png": "[encoded data removed]",
            "text/plain": [
              "Figure()"
            ]
          },
          "execution_count": 56,
          "metadata": {},
          "output_type": "execute_result"
        }
      ],
      "source": [
        "triangle = Point2f[Pythagoreansetup[1], squareside[1],squareside[2]]\n",
        "square1 = getsquare(Pythagoreansetup[1], Pythagoreansetup[2])\n",
        "square2 = getsquare(Pythagoreansetup[1], Pythagoreansetup[3])\n",
        "plotPolygonlist([triangle,square1,square2,square])"
      ]
    },
    {
      "cell_type": "code",
      "execution_count": null,
      "id": "7cc4b70e",
      "metadata": {
        "id": "7cc4b70e",
        "outputId": "ae4a116c-1d37-4a5f-cd96-e73ad16123b6"
      },
      "outputs": [
        {
          "data": {
            "text/plain": [
              "getsquare (generic function with 2 methods)"
            ]
          },
          "execution_count": 79,
          "metadata": {},
          "output_type": "execute_result"
        }
      ],
      "source": [
        "function getsquare(point1,point2,otherpoint)\n",
        " xc = (point1[1] + point2[1])/2\n",
        " yc = (point1[2] + point2[2])/2\n",
        " xd = (point1[1] - point2[1])/2\n",
        " yd = (point1[2] - point2[2])/2\n",
        " x3 = xc - yd\n",
        " y3 = yc + xd\n",
        " x4 = xc + yd\n",
        " y4 = yc - xd\n",
        " square = Point2f[point1,(x3,y3),point2,(x4,y4)]\n",
        " if(dista(square[4],otherpoint)> dista(square[2],otherpoint))\n",
        " pnt = square[4]\n",
        " else\n",
        " pnt = square[2]\n",
        " end\n",
        " centroidnew = (square[1]+square[2]+square[3]+square[4])/4\n",
        " squaresidenew = [square[3],pnt]\n",
        " return square,centroidnew,squaresidenew\n",
        "end"
      ]
    },
    {
      "cell_type": "code",
      "execution_count": null,
      "id": "cfd3b5ee",
      "metadata": {
        "id": "cfd3b5ee",
        "outputId": "c29aceac-cf5b-4678-e46a-c56526bbf00d"
      },
      "outputs": [
        {
          "data": {
            "text/plain": [
              "pythagoreanTree (generic function with 1 method)"
            ]
          },
          "execution_count": 80,
          "metadata": {},
          "output_type": "execute_result"
        }
      ],
      "source": [
        "function pythagoreanTree(square,skewness,edgelength)\n",
        "    squaresideorig = [square[1],square[2]]\n",
        "    centroidorig = (square[1]+square[2]+square[3]+square[4])/4\n",
        "    squarelist = Any[]\n",
        "    trianglelist = Any[]\n",
        "    centroidlist = Any[]\n",
        "    squarelist1 = Any[]\n",
        "    push!(squarelist1,squaresideorig)\n",
        "    push!(centroidlist,centroidorig)\n",
        "    push!(squarelist,square)\n",
        "    while(length(squarelist1)>0)\n",
        "        squaresiden = popfirst!(squarelist1)\n",
        "        centroidn = popfirst!(centroidlist)\n",
        "        skewness = rand((-40,40))\n",
        "        if(distance(squaresiden[1],squaresiden[2])>edgelength)\n",
        "            point = findTriangle(squaresiden,centroidn,skewness*π/180)\n",
        "            triangle = Point2f[point[1], squaresiden[2],squaresiden[1]]\n",
        "            square1,centroid1,squareside1 = getsquare(point[1], point[2], centroidn)\n",
        "            square2,centroid2,squareside2 = getsquare(point[1], point[3], centroidn)\n",
        "            push!(squarelist,square1)\n",
        "            push!(squarelist,square2)\n",
        "            push!(trianglelist,triangle)\n",
        "            push!(centroidlist,centroid1)\n",
        "            push!(centroidlist,centroid2)\n",
        "            push!(squarelist1,squareside1)\n",
        "            push!(squarelist1,squareside2)\n",
        "        end\n",
        "    end\n",
        "    return squarelist,trianglelist\n",
        "end"
      ]
    },
    {
      "cell_type": "code",
      "execution_count": null,
      "id": "666e0360",
      "metadata": {
        "id": "666e0360",
        "outputId": "6f9c738e-fdfd-450a-b9fc-6cdc40a60774"
      },
      "outputs": [
        {
          "data": {
            "text/plain": [
              "plotTrianglesandSquares (generic function with 1 method)"
            ]
          },
          "execution_count": 81,
          "metadata": {},
          "output_type": "execute_result"
        }
      ],
      "source": [
        "function plotTrianglesandSquares(Triangle,Square)\n",
        " f = Figure()\n",
        " Axis(f[1, 1], aspect = 1)\n",
        " for x in Triangle\n",
        " t = max(distance(x[1],x[3]),dista(x[1],x[2]),dista(x[2],x[3]))\n",
        " if(t<0.2)\n",
        " t=0\n",
        " else\n",
        " t=1\n",
        " end\n",
        " poly!(x, color = RGB(139*t/255 , (69t+(1-t)*128)/255 ,19t/255), strokecolor = RGB(139*t/255 , (69t+(1-t)*128)/255 ,19t/255), strokewidth = 1)\n",
        " end\n",
        " for y in Square\n",
        " t = distance(y[1],y[2])\n",
        " if(t<0.2)\n",
        " t=0\n",
        " else\n",
        " t=1\n",
        " end\n",
        " poly!(y, color = RGB(139*t/255 , (69t+(1-t)*128)/255 ,19t/255), strokecolor = RGB(139*t/255 , (69t+(1-t)*128)/255 ,19t/255), strokewidth = 1)\n",
        " end\n",
        " f\n",
        "end"
      ]
    },
    {
      "cell_type": "code",
      "execution_count": null,
      "id": "d82b4dcc",
      "metadata": {
        "id": "d82b4dcc",
        "outputId": "d52edeab-8f38-46c4-b05c-14cdc366b18d"
      },
      "outputs": [
        {
          "ename": "LoadError",
          "evalue": "MethodError: \u001b[0mCannot `convert` an object of type \u001b[92mFloat64\u001b[39m\u001b[0m to an object of type \u001b[91mPoint{2, Float32}\u001b[39m\n\u001b[0mClosest candidates are:\n\u001b[0m  convert(::Type{Point{S, T}}, \u001b[91m::Tuple{Vararg{T, S}}\u001b[39m) where {S, T} at ~/.julia/packages/GeometryBasics/3PqdK/src/fixed_arrays.jl:94\n\u001b[0m  convert(::Type{Point{S, T}}, \u001b[91m::Tuple\u001b[39m) where {S, T} at ~/.julia/packages/GeometryBasics/3PqdK/src/fixed_arrays.jl:97\n\u001b[0m  convert(::Type{Point{S, T}}, \u001b[91m::Point\u001b[39m) where {S, T} at ~/.julia/packages/GeometryBasics/3PqdK/src/fixed_arrays.jl:67\n\u001b[0m  ...",
          "output_type": "error",
          "traceback": [
            "MethodError: \u001b[0mCannot `convert` an object of type \u001b[92mFloat64\u001b[39m\u001b[0m to an object of type \u001b[91mPoint{2, Float32}\u001b[39m\n\u001b[0mClosest candidates are:\n\u001b[0m  convert(::Type{Point{S, T}}, \u001b[91m::Tuple{Vararg{T, S}}\u001b[39m) where {S, T} at ~/.julia/packages/GeometryBasics/3PqdK/src/fixed_arrays.jl:94\n\u001b[0m  convert(::Type{Point{S, T}}, \u001b[91m::Tuple\u001b[39m) where {S, T} at ~/.julia/packages/GeometryBasics/3PqdK/src/fixed_arrays.jl:97\n\u001b[0m  convert(::Type{Point{S, T}}, \u001b[91m::Point\u001b[39m) where {S, T} at ~/.julia/packages/GeometryBasics/3PqdK/src/fixed_arrays.jl:67\n\u001b[0m  ...",
            "",
            "Stacktrace:",
            " [1] setindex!(A::Vector{Point{2, Float32}}, x::Float64, i1::Int64)",
            "   @ Base ./array.jl:903",
            " [2] getindex(#unused#::Type{Point{2, Float32}}, x::Float64, y::Point{2, Float32}, z::Point{2, Float32})",
            "   @ Base ./array.jl:414",
            " [3] pythagoreanTree(square::Vector{Point{2, Float32}}, skewness::Int64, edgelength::Float64)",
            "   @ Main ./In[80]:17",
            " [4] top-level scope",
            "   @ In[82]:4",
            " [5] eval",
            "   @ ./boot.jl:373 [inlined]",
            " [6] include_string(mapexpr::typeof(REPL.softscope), mod::Module, code::String, filename::String)",
            "   @ Base ./loading.jl:1196"
          ]
        }
      ],
      "source": [
        "square = Point2f[(0,1),(1,1),(1,0),(0,0)]\n",
        "skewness= 0\n",
        "edgelength = 0.2\n",
        "squarelist,trianglelist = pythagoreanTree(square,skewness,edgelength)\n",
        "print(\"Squares :: \" , length(squarelist),\" Triangles :: \",length(trianglelist)"
      ]
    },
    {
      "cell_type": "code",
      "execution_count": null,
      "id": "8c1731bc",
      "metadata": {
        "id": "8c1731bc",
        "outputId": "bb6f9a32-d821-4163-a700-703c150d58a8"
      },
      "outputs": [
        {
          "ename": "LoadError",
          "evalue": "UndefVarError: trianglelist not defined",
          "output_type": "error",
          "traceback": [
            "UndefVarError: trianglelist not defined",
            "",
            "Stacktrace:",
            " [1] top-level scope",
            "   @ In[83]:1",
            " [2] eval",
            "   @ ./boot.jl:373 [inlined]",
            " [3] include_string(mapexpr::typeof(REPL.softscope), mod::Module, code::String, filename::String)",
            "   @ Base ./loading.jl:1196"
          ]
        }
      ],
      "source": [
        "plotTrianglesandSquares(trianglelist,squarelist)"
      ]
    },
    {
      "cell_type": "code",
      "execution_count": null,
      "id": "5f923c46",
      "metadata": {
        "id": "5f923c46"
      },
      "outputs": [],
      "source": [
        ""
      ]
    },
    {
      "cell_type": "code",
      "execution_count": null,
      "id": "81696c25",
      "metadata": {
        "id": "81696c25"
      },
      "outputs": [],
      "source": [
        ""
      ]
    }
  ],
  "metadata": {
    "kernelspec": {
      "display_name": "Julia 1.7.2",
      "language": "julia",
      "name": "julia-1.7"
    },
    "language_info": {
      "file_extension": ".jl",
      "mimetype": "application/julia",
      "name": "julia",
      "version": "1.7.2"
    },
    "colab": {
      "name": "Workshop_Julia_Fractals.ipynb",
      "provenance": []
    }
  },
  "nbformat": 4,
  "nbformat_minor": 5
}